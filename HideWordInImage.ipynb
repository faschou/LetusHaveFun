{
 "cells": [
  {
   "cell_type": "code",
   "execution_count": 1,
   "metadata": {},
   "outputs": [],
   "source": [
    "# 需求包\n",
    "from PIL import Image,ImageDraw,ImageFont\n",
    "from glob import glob\n",
    "from os.path import basename,join"
   ]
  },
  {
   "cell_type": "code",
   "execution_count": 20,
   "metadata": {},
   "outputs": [],
   "source": [
    "# 字体大小\n",
    "font_size = 8\n",
    "# 字体间距，1即间距正好为字体大小，紧凑排布，1.2为字体大小为1.2倍\n",
    "font_space = 1.2\n",
    "# 绘制的文本\n",
    "text = '我爱你'\n",
    "# 字体文件的路径\n",
    "font_file = 'C:\\\\Users\\\\17230\\\\Documents\\\\font\\\\SimHei.ttf'\n",
    "# 输入图片路径\n",
    "inputs_folder='C:\\\\Users\\\\17230\\\\Pictures\\\\test'\n",
    "# 输出图片路径\n",
    "outputs_folder = 'C:\\\\Users\\\\17230\\\\Pictures\\\\test' \n",
    "def process(path):\n",
    "    img_raw = Image.open(path)\n",
    "    img_array =img_raw.load()\n",
    "    img_new = Image.new('RGB',img_raw.size,(0,0,0))\n",
    "    draw = ImageDraw.Draw(img_new)\n",
    "    font =ImageFont.truetype(font_file,size=font_size)\n",
    "    \n",
    "    def character_generator(text):\n",
    "        while True:\n",
    "            for i in range(len(text)):\n",
    "                yield text[i]\n",
    "                \n",
    "    ch_gen = character_generator(text)\n",
    "    \n",
    "    for y in range(0,img_raw.size[1],int(font_size * font_space)):\n",
    "        for x in range(0, img_raw.size[0],int(font_size * font_space)):\n",
    "            draw.text((x,y),next(ch_gen),font=font,fill=img_array[x,y],direction=None)\n",
    "    img_new.convert('RGB').save(join(outputs_folder,basename(path)))\n"
   ]
  },
  {
   "cell_type": "code",
   "execution_count": 21,
   "metadata": {},
   "outputs": [
    {
     "name": "stdout",
     "output_type": "stream",
     "text": [
      "starting processing C:\\Users\\17230\\Pictures\\test\\史迪仔.jpg\n",
      "finished processing C:\\Users\\17230\\Pictures\\test\\史迪仔.jpg\n"
     ]
    }
   ],
   "source": [
    "if __name__ == '__main__':\n",
    "    for path in glob(join(inputs_folder,'*')):\n",
    "        print('starting processing',path)\n",
    "        process(path)\n",
    "        print('finished processing',path)"
   ]
  }
 ],
 "metadata": {
  "kernelspec": {
   "display_name": "Python 3",
   "language": "python",
   "name": "python3"
  },
  "language_info": {
   "codemirror_mode": {
    "name": "ipython",
    "version": 3
   },
   "file_extension": ".py",
   "mimetype": "text/x-python",
   "name": "python",
   "nbconvert_exporter": "python",
   "pygments_lexer": "ipython3",
   "version": "3.8.0"
  },
  "toc": {
   "base_numbering": 1,
   "nav_menu": {},
   "number_sections": true,
   "sideBar": true,
   "skip_h1_title": false,
   "title_cell": "Table of Contents",
   "title_sidebar": "Contents",
   "toc_cell": false,
   "toc_position": {},
   "toc_section_display": true,
   "toc_window_display": false
  }
 },
 "nbformat": 4,
 "nbformat_minor": 4
}
